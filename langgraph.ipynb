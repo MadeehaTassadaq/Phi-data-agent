{
  "nbformat": 4,
  "nbformat_minor": 0,
  "metadata": {
    "colab": {
      "provenance": [],
      "gpuType": "T4",
      "authorship_tag": "ABX9TyMFmENV25MApHB6PPtZG5Me",
      "include_colab_link": true
    },
    "kernelspec": {
      "name": "python3",
      "display_name": "Python 3"
    },
    "language_info": {
      "name": "python"
    },
    "accelerator": "GPU"
  },
  "cells": [
    {
      "cell_type": "markdown",
      "metadata": {
        "id": "view-in-github",
        "colab_type": "text"
      },
      "source": [
        "<a href=\"https://colab.research.google.com/github/MadeehaTassadaq/Phi-data-agent/blob/main/langgraph.ipynb\" target=\"_parent\"><img src=\"https://colab.research.google.com/assets/colab-badge.svg\" alt=\"Open In Colab\"/></a>"
      ]
    },
    {
      "cell_type": "code",
      "execution_count": null,
      "metadata": {
        "colab": {
          "base_uri": "https://localhost:8080/"
        },
        "id": "UdXR3cS-thib",
        "outputId": "0341c5e0-2043-46b6-ec21-eb4f17910d3a"
      },
      "outputs": [
        {
          "output_type": "stream",
          "name": "stdout",
          "text": [
            "Requirement already satisfied: langchain in /usr/local/lib/python3.11/dist-packages (0.3.18)\n",
            "Requirement already satisfied: langchain_community in /usr/local/lib/python3.11/dist-packages (0.3.17)\n",
            "Requirement already satisfied: langgraph in /usr/local/lib/python3.11/dist-packages (0.2.70)\n",
            "Requirement already satisfied: langchain_groq in /usr/local/lib/python3.11/dist-packages (0.2.4)\n",
            "Requirement already satisfied: langchain_ollama in /usr/local/lib/python3.11/dist-packages (0.2.3)\n",
            "Requirement already satisfied: langchain-core<1.0.0,>=0.3.34 in /usr/local/lib/python3.11/dist-packages (from langchain) (0.3.34)\n",
            "Requirement already satisfied: langchain-text-splitters<1.0.0,>=0.3.6 in /usr/local/lib/python3.11/dist-packages (from langchain) (0.3.6)\n",
            "Requirement already satisfied: langsmith<0.4,>=0.1.17 in /usr/local/lib/python3.11/dist-packages (from langchain) (0.3.6)\n",
            "Requirement already satisfied: pydantic<3.0.0,>=2.7.4 in /usr/local/lib/python3.11/dist-packages (from langchain) (2.10.6)\n",
            "Requirement already satisfied: SQLAlchemy<3,>=1.4 in /usr/local/lib/python3.11/dist-packages (from langchain) (2.0.37)\n",
            "Requirement already satisfied: requests<3,>=2 in /usr/local/lib/python3.11/dist-packages (from langchain) (2.32.3)\n",
            "Requirement already satisfied: PyYAML>=5.3 in /usr/local/lib/python3.11/dist-packages (from langchain) (6.0.2)\n",
            "Requirement already satisfied: aiohttp<4.0.0,>=3.8.3 in /usr/local/lib/python3.11/dist-packages (from langchain) (3.11.12)\n",
            "Requirement already satisfied: tenacity!=8.4.0,<10,>=8.1.0 in /usr/local/lib/python3.11/dist-packages (from langchain) (9.0.0)\n",
            "Requirement already satisfied: numpy<2,>=1.26.4 in /usr/local/lib/python3.11/dist-packages (from langchain) (1.26.4)\n",
            "Requirement already satisfied: dataclasses-json<0.7,>=0.5.7 in /usr/local/lib/python3.11/dist-packages (from langchain_community) (0.6.7)\n",
            "Requirement already satisfied: pydantic-settings<3.0.0,>=2.4.0 in /usr/local/lib/python3.11/dist-packages (from langchain_community) (2.7.1)\n",
            "Requirement already satisfied: httpx-sse<1.0.0,>=0.4.0 in /usr/local/lib/python3.11/dist-packages (from langchain_community) (0.4.0)\n",
            "Requirement already satisfied: langgraph-checkpoint<3.0.0,>=2.0.10 in /usr/local/lib/python3.11/dist-packages (from langgraph) (2.0.12)\n",
            "Requirement already satisfied: langgraph-sdk<0.2.0,>=0.1.42 in /usr/local/lib/python3.11/dist-packages (from langgraph) (0.1.51)\n",
            "Requirement already satisfied: groq<1,>=0.4.1 in /usr/local/lib/python3.11/dist-packages (from langchain_groq) (0.18.0)\n",
            "Requirement already satisfied: ollama<1,>=0.4.4 in /usr/local/lib/python3.11/dist-packages (from langchain_ollama) (0.4.7)\n",
            "Requirement already satisfied: aiohappyeyeballs>=2.3.0 in /usr/local/lib/python3.11/dist-packages (from aiohttp<4.0.0,>=3.8.3->langchain) (2.4.4)\n",
            "Requirement already satisfied: aiosignal>=1.1.2 in /usr/local/lib/python3.11/dist-packages (from aiohttp<4.0.0,>=3.8.3->langchain) (1.3.2)\n",
            "Requirement already satisfied: attrs>=17.3.0 in /usr/local/lib/python3.11/dist-packages (from aiohttp<4.0.0,>=3.8.3->langchain) (25.1.0)\n",
            "Requirement already satisfied: frozenlist>=1.1.1 in /usr/local/lib/python3.11/dist-packages (from aiohttp<4.0.0,>=3.8.3->langchain) (1.5.0)\n",
            "Requirement already satisfied: multidict<7.0,>=4.5 in /usr/local/lib/python3.11/dist-packages (from aiohttp<4.0.0,>=3.8.3->langchain) (6.1.0)\n",
            "Requirement already satisfied: propcache>=0.2.0 in /usr/local/lib/python3.11/dist-packages (from aiohttp<4.0.0,>=3.8.3->langchain) (0.2.1)\n",
            "Requirement already satisfied: yarl<2.0,>=1.17.0 in /usr/local/lib/python3.11/dist-packages (from aiohttp<4.0.0,>=3.8.3->langchain) (1.18.3)\n",
            "Requirement already satisfied: marshmallow<4.0.0,>=3.18.0 in /usr/local/lib/python3.11/dist-packages (from dataclasses-json<0.7,>=0.5.7->langchain_community) (3.26.1)\n",
            "Requirement already satisfied: typing-inspect<1,>=0.4.0 in /usr/local/lib/python3.11/dist-packages (from dataclasses-json<0.7,>=0.5.7->langchain_community) (0.9.0)\n",
            "Requirement already satisfied: anyio<5,>=3.5.0 in /usr/local/lib/python3.11/dist-packages (from groq<1,>=0.4.1->langchain_groq) (3.7.1)\n",
            "Requirement already satisfied: distro<2,>=1.7.0 in /usr/local/lib/python3.11/dist-packages (from groq<1,>=0.4.1->langchain_groq) (1.9.0)\n",
            "Requirement already satisfied: httpx<1,>=0.23.0 in /usr/local/lib/python3.11/dist-packages (from groq<1,>=0.4.1->langchain_groq) (0.28.1)\n",
            "Requirement already satisfied: sniffio in /usr/local/lib/python3.11/dist-packages (from groq<1,>=0.4.1->langchain_groq) (1.3.1)\n",
            "Requirement already satisfied: typing-extensions<5,>=4.10 in /usr/local/lib/python3.11/dist-packages (from groq<1,>=0.4.1->langchain_groq) (4.12.2)\n",
            "Requirement already satisfied: jsonpatch<2.0,>=1.33 in /usr/local/lib/python3.11/dist-packages (from langchain-core<1.0.0,>=0.3.34->langchain) (1.33)\n",
            "Requirement already satisfied: packaging<25,>=23.2 in /usr/local/lib/python3.11/dist-packages (from langchain-core<1.0.0,>=0.3.34->langchain) (24.2)\n",
            "Requirement already satisfied: msgpack<2.0.0,>=1.1.0 in /usr/local/lib/python3.11/dist-packages (from langgraph-checkpoint<3.0.0,>=2.0.10->langgraph) (1.1.0)\n",
            "Requirement already satisfied: orjson>=3.10.1 in /usr/local/lib/python3.11/dist-packages (from langgraph-sdk<0.2.0,>=0.1.42->langgraph) (3.10.15)\n",
            "Requirement already satisfied: requests-toolbelt<2.0.0,>=1.0.0 in /usr/local/lib/python3.11/dist-packages (from langsmith<0.4,>=0.1.17->langchain) (1.0.0)\n",
            "Requirement already satisfied: zstandard<0.24.0,>=0.23.0 in /usr/local/lib/python3.11/dist-packages (from langsmith<0.4,>=0.1.17->langchain) (0.23.0)\n",
            "Requirement already satisfied: annotated-types>=0.6.0 in /usr/local/lib/python3.11/dist-packages (from pydantic<3.0.0,>=2.7.4->langchain) (0.7.0)\n",
            "Requirement already satisfied: pydantic-core==2.27.2 in /usr/local/lib/python3.11/dist-packages (from pydantic<3.0.0,>=2.7.4->langchain) (2.27.2)\n",
            "Requirement already satisfied: python-dotenv>=0.21.0 in /usr/local/lib/python3.11/dist-packages (from pydantic-settings<3.0.0,>=2.4.0->langchain_community) (1.0.1)\n",
            "Requirement already satisfied: charset-normalizer<4,>=2 in /usr/local/lib/python3.11/dist-packages (from requests<3,>=2->langchain) (3.4.1)\n",
            "Requirement already satisfied: idna<4,>=2.5 in /usr/local/lib/python3.11/dist-packages (from requests<3,>=2->langchain) (3.10)\n",
            "Requirement already satisfied: urllib3<3,>=1.21.1 in /usr/local/lib/python3.11/dist-packages (from requests<3,>=2->langchain) (2.3.0)\n",
            "Requirement already satisfied: certifi>=2017.4.17 in /usr/local/lib/python3.11/dist-packages (from requests<3,>=2->langchain) (2025.1.31)\n",
            "Requirement already satisfied: greenlet!=0.4.17 in /usr/local/lib/python3.11/dist-packages (from SQLAlchemy<3,>=1.4->langchain) (3.1.1)\n",
            "Requirement already satisfied: httpcore==1.* in /usr/local/lib/python3.11/dist-packages (from httpx<1,>=0.23.0->groq<1,>=0.4.1->langchain_groq) (1.0.7)\n",
            "Requirement already satisfied: h11<0.15,>=0.13 in /usr/local/lib/python3.11/dist-packages (from httpcore==1.*->httpx<1,>=0.23.0->groq<1,>=0.4.1->langchain_groq) (0.14.0)\n",
            "Requirement already satisfied: jsonpointer>=1.9 in /usr/local/lib/python3.11/dist-packages (from jsonpatch<2.0,>=1.33->langchain-core<1.0.0,>=0.3.34->langchain) (3.0.0)\n",
            "Requirement already satisfied: mypy-extensions>=0.3.0 in /usr/local/lib/python3.11/dist-packages (from typing-inspect<1,>=0.4.0->dataclasses-json<0.7,>=0.5.7->langchain_community) (1.0.0)\n"
          ]
        }
      ],
      "source": [
        "! pip install --upgrade langchain langchain_community langgraph langchain_groq langchain_ollama"
      ]
    },
    {
      "cell_type": "code",
      "source": [
        "from google.colab import userdata\n",
        "groq_api_key=userdata.get('groq_api_Key')"
      ],
      "metadata": {
        "id": "LcKrw-WmPC7k"
      },
      "execution_count": null,
      "outputs": []
    },
    {
      "cell_type": "code",
      "source": [
        "from typing import List,Dict\n",
        "from langgraph.graph import START,END,StateGraph\n",
        "from langchain_groq import ChatGroq\n",
        "from langchain_ollama.llms import OllamaLLM"
      ],
      "metadata": {
        "id": "ME8_40XA7-6R"
      },
      "execution_count": null,
      "outputs": []
    },
    {
      "cell_type": "code",
      "source": [
        "# step 1 define state\n",
        "class State(Dict):\n",
        "  messages: list[Dict[str,str]]"
      ],
      "metadata": {
        "id": "nvHz4cam8igP"
      },
      "execution_count": null,
      "outputs": []
    },
    {
      "cell_type": "code",
      "source": [
        "# step 2 initialize State graph\n",
        "state_graph = StateGraph(State)"
      ],
      "metadata": {
        "id": "fsJunN4L9I5G"
      },
      "execution_count": null,
      "outputs": []
    },
    {
      "cell_type": "code",
      "source": [
        "# step 3 initialize llm\n",
        "llm=ChatGroq(model=\"deepseek-r1-distill-llama-70b\",api_key=groq_api_key)\n",
        "llm_ollama=OllamaLLM(model=\"deepseek-r1:1.5b\")"
      ],
      "metadata": {
        "id": "YfmrnFeI9eCK"
      },
      "execution_count": null,
      "outputs": []
    },
    {
      "cell_type": "code",
      "source": [
        "# Define chatbot function\n",
        "def chatbot(state: State):\n",
        "    response = llm_ollama.invoke(state[\"messages\"])\n",
        "    state[\"messages\"].append({\"role\": \"assistant\", \"content\": response})  # Treat response as a string\n",
        "    return {\"messages\": state[\"messages\"]}"
      ],
      "metadata": {
        "id": "zAUtjLjU9zD1"
      },
      "execution_count": null,
      "outputs": []
    },
    {
      "cell_type": "code",
      "source": [
        "# Add nodes and edges\n",
        "state_graph.add_node(\"chatbot\",chatbot)\n",
        "state_graph.add_edge(START,\"chatbot\")\n",
        "state_graph.add_edge(\"chatbot\",END)"
      ],
      "metadata": {
        "colab": {
          "base_uri": "https://localhost:8080/"
        },
        "id": "t4pck3wj-GKp",
        "outputId": "05a071f7-9982-4cba-f4f9-80c322f6ee00"
      },
      "execution_count": null,
      "outputs": [
        {
          "output_type": "execute_result",
          "data": {
            "text/plain": [
              "<langgraph.graph.state.StateGraph at 0x79d3dda08e90>"
            ]
          },
          "metadata": {},
          "execution_count": 90
        }
      ]
    },
    {
      "cell_type": "code",
      "source": [
        "# Compile the graph\n",
        "graph = state_graph.compile()"
      ],
      "metadata": {
        "id": "G6zQcPsF9zAZ"
      },
      "execution_count": null,
      "outputs": []
    },
    {
      "cell_type": "code",
      "source": [
        "from IPython.display import Image, display\n",
        "\n",
        "try:\n",
        "    display(Image(graph.get_graph().draw_mermaid_png()))\n",
        "except Exception:\n",
        "    # This requires some extra dependencies and is optional\n",
        "    pass"
      ],
      "metadata": {
        "colab": {
          "base_uri": "https://localhost:8080/",
          "height": 251
        },
        "id": "s98sQR6iwfMR",
        "outputId": "66df20e1-0a6a-4c0d-cc6f-6269c292e831"
      },
      "execution_count": null,
      "outputs": [
        {
          "output_type": "display_data",
          "data": {
            "image/png": "[encoded data removed]",
            "text/plain": [
              "<IPython.core.display.Image object>"
            ]
          },
          "metadata": {}
        }
      ]
    },
    {
      "cell_type": "code",
      "source": [
        "# Stream updates\n",
        "def stream_graph_updates(user_input: str):\n",
        "    state = {\"messages\": [{\"role\": \"user\", \"content\": user_input}]}\n",
        "    for event in graph.stream(state):\n",
        "        for value in event.values():\n",
        "            print(\"Assistant:\", value[\"messages\"][-1][\"content\"])"
      ],
      "metadata": {
        "id": "5XaIW5r4_ubn"
      },
      "execution_count": null,
      "outputs": []
    },
    {
      "cell_type": "code",
      "source": [
        "# Run chatbot in a loop\n",
        "if __name__ == \"__main__\":\n",
        "    while True:\n",
        "        try:\n",
        "            user_input = input(\"User: \")\n",
        "            if user_input.lower() in [\"quit\", \"exit\", \"q\"]:\n",
        "                print(\"Goodbye!\")\n",
        "                break\n",
        "\n",
        "            stream_graph_updates(user_input)\n",
        "        except Exception as e:\n",
        "            print(f\"An error occurred: {e}\")\n",
        "            break"
      ],
      "metadata": {
        "colab": {
          "base_uri": "https://localhost:8080/"
        },
        "id": "be5oTLHKBWWZ",
        "outputId": "f37acf1a-0439-4929-821b-19ec7c435087"
      },
      "execution_count": null,
      "outputs": [
        {
          "output_type": "stream",
          "name": "stdout",
          "text": [
            "User: hi\n",
            "An error occurred: [Errno 111] Connection refused\n"
          ]
        }
      ]
    },
    {
      "cell_type": "code",
      "source": [
        "from typing import Annotated\n",
        "from typing_extensions import TypedDict"
      ],
      "metadata": {
        "id": "llqn6mR0RKD3"
      },
      "execution_count": null,
      "outputs": []
    },
    {
      "cell_type": "code",
      "source": [
        "!pip install arxiv wikipedia"
      ],
      "metadata": {
        "colab": {
          "base_uri": "https://localhost:8080/"
        },
        "id": "5__XewtjRJ3i",
        "outputId": "4743b98d-5124-4a0a-c7e8-d178d5d57dd1"
      },
      "execution_count": null,
      "outputs": [
        {
          "output_type": "stream",
          "name": "stdout",
          "text": [
            "Requirement already satisfied: arxiv in /usr/local/lib/python3.11/dist-packages (2.1.3)\n",
            "Requirement already satisfied: wikipedia in /usr/local/lib/python3.11/dist-packages (1.4.0)\n",
            "Requirement already satisfied: feedparser~=6.0.10 in /usr/local/lib/python3.11/dist-packages (from arxiv) (6.0.11)\n",
            "Requirement already satisfied: requests~=2.32.0 in /usr/local/lib/python3.11/dist-packages (from arxiv) (2.32.3)\n",
            "Requirement already satisfied: beautifulsoup4 in /usr/local/lib/python3.11/dist-packages (from wikipedia) (4.13.3)\n",
            "Requirement already satisfied: sgmllib3k in /usr/local/lib/python3.11/dist-packages (from feedparser~=6.0.10->arxiv) (1.0.0)\n",
            "Requirement already satisfied: charset-normalizer<4,>=2 in /usr/local/lib/python3.11/dist-packages (from requests~=2.32.0->arxiv) (3.4.1)\n",
            "Requirement already satisfied: idna<4,>=2.5 in /usr/local/lib/python3.11/dist-packages (from requests~=2.32.0->arxiv) (3.10)\n",
            "Requirement already satisfied: urllib3<3,>=1.21.1 in /usr/local/lib/python3.11/dist-packages (from requests~=2.32.0->arxiv) (2.3.0)\n",
            "Requirement already satisfied: certifi>=2017.4.17 in /usr/local/lib/python3.11/dist-packages (from requests~=2.32.0->arxiv) (2025.1.31)\n",
            "Requirement already satisfied: soupsieve>1.2 in /usr/local/lib/python3.11/dist-packages (from beautifulsoup4->wikipedia) (2.6)\n",
            "Requirement already satisfied: typing-extensions>=4.0.0 in /usr/local/lib/python3.11/dist-packages (from beautifulsoup4->wikipedia) (4.12.2)\n"
          ]
        }
      ]
    },
    {
      "cell_type": "code",
      "source": [
        "# working with tools\n",
        "from langchain_community.utilities import ArxivAPIWrapper,WikipediaAPIWrapper\n",
        "from langchain_community.tools import ArxivQueryRun,WikipediaQueryRun\n",
        "# ## Arxiv And Wikipedia tools\n",
        "wiki_tools=WikipediaQueryRun(api_wrapper=WikipediaAPIWrapper())\n",
        "arxiv_tools=ArxivQueryRun(api_wrapper=ArxivAPIWrapper())"
      ],
      "metadata": {
        "id": "8Vek40sVRJmr"
      },
      "execution_count": null,
      "outputs": []
    },
    {
      "cell_type": "code",
      "source": [
        "LANGSMITH_TRACING_V2=\"true\"\n",
        "LANGSMITH_ENDPOINT=\"https://api.smith.langchain.com\"\n",
        "LANGSMITH_API_KEY=\"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\"\n",
        "LANGSMITH_PROJECT=\"langgraph\""
      ],
      "metadata": {
        "id": "30mXjDQgS-Ji"
      },
      "execution_count": null,
      "outputs": []
    },
    {
      "cell_type": "code",
      "source": [
        "arxiv_tools.run(\"What is attention you need\")"
      ],
      "metadata": {
        "colab": {
          "base_uri": "https://localhost:8080/",
          "height": 139
        },
        "id": "Brg0eFn0S-GP",
        "outputId": "bdd6e49b-0335-49ad-95f3-2a8a606590f2"
      },
      "execution_count": null,
      "outputs": [
        {
          "output_type": "execute_result",
          "data": {
            "text/plain": [
              "\"Published: 2023-11-20\\nTitle: System 2 Attention (is something you might need too)\\nAuthors: Jason Weston, Sainbayar Sukhbaatar\\nSummary: Soft attention in Transformer-based Large Language Models (LLMs) is\\nsusceptible to incorporating irrelevant information from the context into its\\nlatent representations, which adversely affects next token generations. To help\\nrectify these issues, we introduce System 2 Attention (S2A), which leverages\\nthe ability of LLMs to reason in natural language and follow instructions in\\norder to decide what to attend to. S2A regenerates the input context to only\\ninclude the relevant portions, before attending to the regenerated context to\\nelicit the final response. In experiments, S2A outperforms standard\\nattention-based LLMs on three tasks containing opinion or irrelevant\\ninformation, QA, math word problems and longform generation, where S2A\\nincreases factuality and objectivity, and decreases sycophancy.\\n\\nPublished: 2019-12-30\\nTitle: Is Attention All What You Need? -- An Empirical Investigation on Convolution-Based Active Memory and Self-Attention\\nAuthors: Thomas Dowdell, Hongyu Zhang\\nSummary: The key to a Transformer model is the self-attention mechanism, which allows\\nthe model to analyze an entire sequence in a computationally efficient manner.\\nRecent work has suggested the possibility that general attention mechanisms\\nused by RNNs could be replaced by active-memory mechanisms. In this work, we\\nevaluate whether various active-memory mechanisms could replace self-attention\\nin a Transformer. Our experiments suggest that active-memory alone achieves\\ncomparable results to the self-attention mechanism for language modelling, but\\noptimal results are mostly achieved by using both active-memory and\\nself-attention mechanisms together. We also note that, for some specific\\nalgorithmic tasks, active-memory mechanisms alone outperform both\\nself-attention and a combination of the two.\\n\\nPublished: 2018-07-02\\nTitle: The Matrix Calculus You Need For Deep Learning\\nAuthors: Terence Parr, Jeremy Howard\\nSummary: This paper is an attempt to explain all the matrix calculus you need in order\\nto understand the training of deep neural networks. We assume no math knowledge\\nbeyond what you learned in calculus 1, and provide links to help you refresh\\nthe necessary math where needed. Note that you do not need to understand this\\nmaterial before you start learning to train and use deep learning in practice;\\nrather, this material is for those who are already familiar with the basics of\\nneural networks, and wish to deepen their understanding of the underlying math.\\nDon't worry if you get stuck at some point along the way---just go back and\\nreread the previous section, and try writing down and working through some\\nexamples. And if you're still stuck, we're happy to answer your questions in\\nthe Theory category at forums.fast.ai. Note: There is a reference section at\\nthe end of the paper summarizing all the key matrix calculus rules and\\nterminology discussed here. See related articles at http://explained.ai\""
            ],
            "application/vnd.google.colaboratory.intrinsic+json": {
              "type": "string"
            }
          },
          "metadata": {},
          "execution_count": 51
        }
      ]
    },
    {
      "cell_type": "code",
      "source": [
        "wiki_tools.run(\"who is nawaz sharif\")"
      ],
      "metadata": {
        "colab": {
          "base_uri": "https://localhost:8080/",
          "height": 139
        },
        "id": "UD2ie1oOaQF5",
        "outputId": "2347d0fc-de5b-4eca-fd26-323ff7feef77"
      },
      "execution_count": null,
      "outputs": [
        {
          "output_type": "execute_result",
          "data": {
            "text/plain": [
              "\"Page: Nawaz Sharif\\nSummary: Mian Muhammad Nawaz Sharif (born 25 December 1949) is a Pakistani politician and businessman who served as the 12th prime minister of Pakistan for three non-consecutive terms, first serving from 1990 to 1993, then from 1997 to 1999 and later from 2013 to 2017. He is the longest-serving prime minister of Pakistan, having served a total of more than 9 years across three tenures. Each term has ended in his ousting.\\nBorn into the upper-middle-class Sharif family in Lahore, Nawaz is the son of Muhammad Sharif, the founder of Ittefaq and Sharif groups. Nawaz studied business at Government College and law at the University of Punjab. Nawaz entered into politics in 1981, when he was appointed by President Zia as the minister of finance for the province of Punjab. Backed by a loose coalition of conservatives, Nawaz was elected as the chief minister of Punjab in 1985 and re-elected after the end of martial law in 1988. \\nIn 1990, Nawaz led the conservative Islamic Democratic Alliance and became the 12th prime minister of Pakistan. After being ousted in 1993, when President Ghulam Ishaq Khan dissolved the National Assembly, Nawaz served as the leader of the opposition to the government of Benazir Bhutto from 1993 to 1996. He returned to the premiership after the Pakistan Muslim League (N) (PML-N) was elected in 1997, and served until his removal in 1999 by military takeover and was tried in a plane hijacking case. \\nAfter being imprisoned and later exiled for more than a decade, he returned to politics in 2011 and led his party to victory for the third time in 2013. In 2017, Nawaz was again removed from office by the Supreme Court of Pakistan following the Panama Papers case. In 2018, the Pakistani Supreme Court disqualified Nawaz from holding public office, and he was also sentenced to ten years in prison by an accountability court. In 2019, he moved to London for medical treatment on bail. He was also declared an absconder by a Pakistani court, however, the Islamabad High Court later granted him protective bail in the Avenfield and Al-Aziza cases. In 2023, after four years of exile, he returned to Pakistan and was subsequently acquitted in the Avenfield and Al-Azizia Steel Mills cases by the IHC.\\n\\nPage: Maryam Nawaz\\nSummary: Maryam Nawaz Sharif (Urdu: مریم نواز شریف; born 28 October 1973), is a Pakistani politician who has served as the 20th chief minister of Punjab, since 26 February 2024. She is the first woman to hold the position of chief minister in Pakistan.\\nBorn to former Prime Minister of Pakistan Nawaz Sharif in 1973, Maryam began her political career in 2012 when she took charge of the election campaign for the 2013 Pakistani general election. Following the election, she was appointed as the chairperson of the Prime Minister's Youth Programme in 2013. In 2014, she resigned from the position after her appointment was challenged in the Lahore High Court.\\nAfter her election to the Provincial Assembly of the Punjab in the 2024 Pakistani general election, Maryam was appointed chief minister of Punjab.\\n\\nPage: Sharif family\\nSummary: The Sharif family is a Pakistani political family of Punjabi–Kashmiri background. Playing a prominent role in Pakistani politics, especially in Punjab, since late-1980s, the family held the leadership of the Islamic Democratic Alliance; and has held the leadership of the Pakistan Muslim League-N for most of the party's existence. Originating in East Punjab and the Kashmir Valley, the family has been settled in Lahore, the capital of Punjab, since the partition of India.\\nMuhammad Sharif, the father of former Prime Minister of Pakistan Nawaz Sharif, migrated from Jati Umra, Amritsar District (now in Tarn Taran district, India, after the creation of Pakistan in 1947). He was a businessman who founded the Ittefaq Group and Sharif Group in 1939. Sharif's other son Shehbaz Sharif currently serving as Prime Minister of Pakistan from 2024.\""
            ],
            "application/vnd.google.colaboratory.intrinsic+json": {
              "type": "string"
            }
          },
          "metadata": {},
          "execution_count": 52
        }
      ]
    },
    {
      "cell_type": "code",
      "source": [
        "arxiv_tools.run('Who is Sharukh Khan')"
      ],
      "metadata": {
        "colab": {
          "base_uri": "https://localhost:8080/",
          "height": 139
        },
        "id": "RA_zv0f_acIx",
        "outputId": "878b1a31-fa72-4583-a0cd-730b48581de2"
      },
      "execution_count": null,
      "outputs": [
        {
          "output_type": "execute_result",
          "data": {
            "text/plain": [
              "\"Published: 2020-08-11\\nTitle: Planimation\\nAuthors: Gang Chen, Yi Ding, Hugo Edwards, Chong Hin Chau, Sai Hou, Grace Johnson, Mohammed Sharukh Syed, Haoyuan Tang, Yue Wu, Ye Yan, Gil Tidhar, Nir Lipovetzky\\nSummary: Planimation is a modular and extensible open source framework to visualise\\nsequential solutions of planning problems specified in PDDL. We introduce a\\npreliminary declarative PDDL-like animation profile specification, expressive\\nenough to synthesise animations of arbitrary initial states and goals of a\\nbenchmark with just a single profile.\\n\\nPublished: 2024-06-14\\nTitle: The inadequacy of the geometric features of MA islands in relating bainite microstructures to composition and processing conditions\\nAuthors: Vinod Kumar, Sharukh Hussain, Priyanka S, P G Kubendran Amos\\nSummary: Achieving desired properties in bainite steels with MA islands demands\\nunderstanding the affect of processing conditions and composition on their size\\nand morphology. Generally, this understanding is gained by studying the change\\nin the size and morphology of the MA islands with composition and the\\nprocessing conditions. In the present work, around 8500 MA islands dispersed\\nacross of approximately 1500 bainite microstructures are investigated to\\ncomprehend the influence of composition and heat treatment cycle on the\\ngeometric features. The geometric features considered in this study include\\npolygon area metric, compactness and aspect ratio. A thorough statistical\\nanalysis of these features across bainite steels of different compositions and\\nprocessing conditions unravel that, though there are minor changes, no\\ncharacteristic variation is introduced in the size and morphology of the MA\\nislands. In other words, the distribution of the various forms of MA islands\\nare almost identical in bainite steels of different chemistry and heat\\ntreatment, thereby indicating the inadequacy of geometric features in\\nexplicating the affect of processing conditions on microstructure.\\n\\nPublished: 2024-06-14\\nTitle: Interpretable MA-island clusters and fingerprints relating bainite microstructures to composition and processing temperature\\nAuthors: Vinod Kumar, Sharukh Hussain, Priyanka S, P G Kubendran Amos\\nSummary: Realising the affect of composition and processing condition on bainite\\nmicrostructures is often challenging, owing to the intricate distribution of\\nthe constituent phases. In this work, scanning electron micrographs of\\nnon-isothermally transformed bainite, with martensite-austenite (MA) islands,\\nare analysed to relate the microstructures to the composition and quench-stop\\ntemperature. The inadequacy of the MA-islands' geometric features, namely\\naspect ratio, polygon area and compactness, in establishing this relation is\\nmade evident from Kullback-Leibler (KL) divergence at the outset. Clustering\\nthe bainite microstructures, following a combination of feature extraction and\\ndimensionality reduction, further fails to realise the affect of composition\\nand processing temperature. Deep-learning analysis of the individual MA\\nislands, in contrast to the bainite microstructures, yields interpretable\\nclusters with characteristically distinct size and morphology. These five\\nclusters, referred to as fine- and coarse-dendrite, fine- and coarse-polygon\\nand elongated, are exceptionally discernible and can be adopted to describe any\\nMA island. Characterising the bainite microstructures, based on the\\ndistribution of the interpretable MA-island clusters, generates\\n\\\\textit{fingerprints} that sufficiently relates the composition and processing\\nconditions with the microstructures.\""
            ],
            "application/vnd.google.colaboratory.intrinsic+json": {
              "type": "string"
            }
          },
          "metadata": {},
          "execution_count": 21
        }
      ]
    },
    {
      "cell_type": "code",
      "source": [
        "tools=[arxiv_tools,wiki_tools]"
      ],
      "metadata": {
        "id": "WFZNb06ZaqZG"
      },
      "execution_count": null,
      "outputs": []
    },
    {
      "cell_type": "code",
      "source": [
        "# langgraph application\n",
        "class State(Dict):\n",
        "  messages:list[Dict[str,str]]"
      ],
      "metadata": {
        "id": "SroNAlaQay9L"
      },
      "execution_count": null,
      "outputs": []
    },
    {
      "cell_type": "code",
      "source": [
        "graph_builder=StateGraph(State)"
      ],
      "metadata": {
        "id": "cTyTl9Zrbc5j"
      },
      "execution_count": null,
      "outputs": []
    },
    {
      "cell_type": "code",
      "source": [
        "llm_with_tools=llm.bind_tools(tools=tools)\n",
        "llm_with_tools"
      ],
      "metadata": {
        "id": "8egKWgRPbiUT",
        "colab": {
          "base_uri": "https://localhost:8080/"
        },
        "outputId": "edb17256-bcee-4ebd-80bb-028929701b4f"
      },
      "execution_count": null,
      "outputs": [
        {
          "output_type": "execute_result",
          "data": {
            "text/plain": [
              "RunnableBinding(bound=ChatGroq(client=<groq.resources.chat.completions.Completions object at 0x79d399453350>, async_client=<groq.resources.chat.completions.AsyncCompletions object at 0x79d39979c0d0>, model_name='deepseek-r1-distill-llama-70b', model_kwargs={}, groq_api_key=SecretStr('**********')), kwargs={'tools': [{'type': 'function', 'function': {'name': 'arxiv', 'description': 'A wrapper around Arxiv.org Useful for when you need to answer questions about Physics, Mathematics, Computer Science, Quantitative Biology, Quantitative Finance, Statistics, Electrical Engineering, and Economics from scientific articles on arxiv.org. Input should be a search query.', 'parameters': {'properties': {'query': {'description': 'search query to look up', 'type': 'string'}}, 'required': ['query'], 'type': 'object'}}}, {'type': 'function', 'function': {'name': 'wikipedia', 'description': 'A wrapper around Wikipedia. Useful for when you need to answer general questions about people, places, companies, facts, historical events, or other subjects. Input should be a search query.', 'parameters': {'properties': {'query': {'description': 'query to look up on wikipedia', 'type': 'string'}}, 'required': ['query'], 'type': 'object'}}}]}, config={}, config_factories=[])"
            ]
          },
          "metadata": {},
          "execution_count": 57
        }
      ]
    },
    {
      "cell_type": "code",
      "source": [
        "def chatbot(state:State):\n",
        "  response=llm_with_tools.invoke(state[\"messages\"])\n",
        "  state[\"messages\"].append({\"role\":\"assistant\",\"content\":response})\n",
        "  return {\"messages\":state[\"messages\"]}"
      ],
      "metadata": {
        "id": "T1c_MPo0biQ5"
      },
      "execution_count": null,
      "outputs": []
    },
    {
      "cell_type": "code",
      "source": [
        "from langgraph.prebuilt import tools_condition,ToolNode"
      ],
      "metadata": {
        "id": "ynBtl78CcVz3"
      },
      "execution_count": null,
      "outputs": []
    },
    {
      "cell_type": "code",
      "source": [
        "graph_builder.add_node(\"chatbot\",chatbot)\n",
        "tool_node=ToolNode(tools=tools)\n",
        "graph_builder.add_node(\"tools\",tool_node)"
      ],
      "metadata": {
        "colab": {
          "base_uri": "https://localhost:8080/"
        },
        "id": "xhvf7ANIciyq",
        "outputId": "174a1f2c-8944-4f5f-b7db-b5ad2c497a10"
      },
      "execution_count": null,
      "outputs": [
        {
          "output_type": "execute_result",
          "data": {
            "text/plain": [
              "<langgraph.graph.state.StateGraph at 0x79d3995246d0>"
            ]
          },
          "metadata": {},
          "execution_count": 60
        }
      ]
    },
    {
      "cell_type": "code",
      "source": [
        "graph_builder.add_conditional_edges(\"chatbot\",tools_condition)"
      ],
      "metadata": {
        "colab": {
          "base_uri": "https://localhost:8080/"
        },
        "id": "fB2MF3hfdorN",
        "outputId": "c278f13c-0ffa-404d-8a9f-ec9c7fddc480"
      },
      "execution_count": null,
      "outputs": [
        {
          "output_type": "execute_result",
          "data": {
            "text/plain": [
              "<langgraph.graph.state.StateGraph at 0x79d3995246d0>"
            ]
          },
          "metadata": {},
          "execution_count": 61
        }
      ]
    },
    {
      "cell_type": "code",
      "source": [
        "graph_builder.add_edge(\"tools\",\"chatbot\")\n",
        "graph_builder.add_edge(START,\"chatbot\")"
      ],
      "metadata": {
        "colab": {
          "base_uri": "https://localhost:8080/"
        },
        "id": "ewZ0lTO5eJVe",
        "outputId": "73b94e4a-5bad-4ff9-861b-7c81670fe945"
      },
      "execution_count": null,
      "outputs": [
        {
          "output_type": "execute_result",
          "data": {
            "text/plain": [
              "<langgraph.graph.state.StateGraph at 0x79d3995246d0>"
            ]
          },
          "metadata": {},
          "execution_count": 62
        }
      ]
    },
    {
      "cell_type": "code",
      "source": [
        "graph=graph_builder.compile()"
      ],
      "metadata": {
        "id": "ikiz7fv8eftI"
      },
      "execution_count": null,
      "outputs": []
    },
    {
      "cell_type": "code",
      "source": [
        "from IPython.display import Image, display\n",
        "\n",
        "try:\n",
        "    display(Image(graph.get_graph().draw_mermaid_png()))\n",
        "except Exception:\n",
        "    # This requires some extra dependencies and is optional\n",
        "    pass"
      ],
      "metadata": {
        "colab": {
          "base_uri": "https://localhost:8080/",
          "height": 266
        },
        "id": "yEgnWuiOehF_",
        "outputId": "3cc5334a-e577-4742-8971-a98dc4da7d76"
      },
      "execution_count": null,
      "outputs": [
        {
          "output_type": "display_data",
          "data": {
            "image/png": "[encoded data removed]",
            "text/plain": [
              "<IPython.core.display.Image object>"
            ]
          },
          "metadata": {}
        }
      ]
    },
    {
      "cell_type": "code",
      "source": [
        "def stream_graph_updates(user_input: str):\n",
        "    for event in graph.stream({\"messages\": [{\"role\": \"user\", \"content\": user_input}]}):\n",
        "        for value in event.values():\n",
        "            print(\"Assistant:\", value[\"messages\"][-1][\"content\"])\n",
        "\n",
        "\n",
        "while True:\n",
        "    try:\n",
        "        user_input = input(\"User: \")\n",
        "        if user_input.lower() in [\"quit\", \"exit\", \"q\"]:\n",
        "            print(\"Goodbye!\")\n",
        "            break\n",
        "\n",
        "        stream_graph_updates(user_input)\n",
        "    except:\n",
        "\n",
        "        print(\"User: \" , user_input)\n",
        "        break"
      ],
      "metadata": {
        "colab": {
          "base_uri": "https://localhost:8080/"
        },
        "id": "9IozgE8OehNy",
        "outputId": "47a4141f-4469-44af-83d7-bb3f339b327e"
      },
      "execution_count": null,
      "outputs": [
        {
          "output_type": "stream",
          "name": "stdout",
          "text": [
            "User: what is attention all you need\n",
            "Assistant: content='' additional_kwargs={'tool_calls': [{'id': 'call_a46y', 'function': {'arguments': '{\"query\":\"attention is all you need\"}', 'name': 'arxiv'}, 'type': 'function'}]} response_metadata={'token_usage': {'completion_tokens': 105, 'prompt_tokens': 254, 'total_tokens': 359, 'completion_time': 0.381818182, 'prompt_time': 0.012654999, 'queue_time': 0.081992212, 'total_time': 0.394473181}, 'model_name': 'deepseek-r1-distill-llama-70b', 'system_fingerprint': 'fp_af2982c95d', 'finish_reason': 'tool_calls', 'logprobs': None} id='run-f3283e10-9989-4c54-8ca8-86e071cb5493-0' tool_calls=[{'name': 'arxiv', 'args': {'query': 'attention is all you need'}, 'id': 'call_a46y', 'type': 'tool_call'}] usage_metadata={'input_tokens': 254, 'output_tokens': 105, 'total_tokens': 359}\n",
            "User: what is transformers\n",
            "Assistant: content='' additional_kwargs={'tool_calls': [{'id': 'call_zmte', 'function': {'arguments': '{\"query\":\"transformers\"}', 'name': 'wikipedia'}, 'type': 'function'}]} response_metadata={'token_usage': {'completion_tokens': 176, 'prompt_tokens': 251, 'total_tokens': 427, 'completion_time': 0.64, 'prompt_time': 0.017647132, 'queue_time': 0.023401094, 'total_time': 0.657647132}, 'model_name': 'deepseek-r1-distill-llama-70b', 'system_fingerprint': 'fp_af2982c95d', 'finish_reason': 'tool_calls', 'logprobs': None} id='run-befde00d-34c1-4230-a338-cfd02f272292-0' tool_calls=[{'name': 'wikipedia', 'args': {'query': 'transformers'}, 'id': 'call_zmte', 'type': 'tool_call'}] usage_metadata={'input_tokens': 251, 'output_tokens': 176, 'total_tokens': 427}\n",
            "User: what is CNN\n",
            "Assistant: content='CNN can refer to two different things:\\n\\n1. **Cable News Network (CNN)**: A global cable and satellite television network that provides news coverage 24 hours a day. Founded in 1980 by Ted Turner, CNN was the first television channel to provide 24-hour news coverage and has become one of the most recognized news brands worldwide.\\n\\n2. **Convolutional Neural Network (CNN)**: A type of artificial neural network used in machine learning, particularly in the field of computer vision. CNNs are designed to process data with grid-like topology, such as images, and are widely used for image recognition, object detection, and other vision-related tasks.' additional_kwargs={} response_metadata={'token_usage': {'completion_tokens': 369, 'prompt_tokens': 251, 'total_tokens': 620, 'completion_time': 1.341818182, 'prompt_time': 0.026759635, 'queue_time': 0.057680887, 'total_time': 1.368577817}, 'model_name': 'deepseek-r1-distill-llama-70b', 'system_fingerprint': 'fp_af2982c95d', 'finish_reason': 'stop', 'logprobs': None} id='run-4906d0df-d00c-422d-a861-c95848c531b1-0' usage_metadata={'input_tokens': 251, 'output_tokens': 369, 'total_tokens': 620}\n",
            "User: what is attention all you need\n",
            "Assistant: content='\"Attention Is All You Need\" is the title of a seminal 2017 paper by Ashish Vaswani et al. that introduced the Transformer model, revolutionizing the field of natural language processing (NLP). The paper proposed that attention mechanisms alone are sufficient for building highly effective models, eliminating the need for traditional recurrent neural networks (RNNs) and convolutional neural networks (CNNs). The Transformer architecture processes all parts of the input data simultaneously, making it more efficient for parallel processing. It uses self-attention mechanisms with query, key, and value vectors to capture contextual relationships, and employs multi-head attention to handle different types of relationships. The paper demonstrated the Transformer\\'s effectiveness in tasks like machine translation, leading to state-of-the-art results and influencing the development of subsequent models such as BERT and GPT. The Transformer\\'s impact has been profound, shifting NLP research towards attention-based architectures and advancing areas like text generation and question answering.' additional_kwargs={} response_metadata={'token_usage': {'completion_tokens': 838, 'prompt_tokens': 254, 'total_tokens': 1092, 'completion_time': 3.047272727, 'prompt_time': 0.018761022, 'queue_time': 0.10768120699999999, 'total_time': 3.066033749}, 'model_name': 'deepseek-r1-distill-llama-70b', 'system_fingerprint': 'fp_af2982c95d', 'finish_reason': 'stop', 'logprobs': None} id='run-e77440e3-620f-47cb-9fa2-f72794948a8c-0' usage_metadata={'input_tokens': 254, 'output_tokens': 838, 'total_tokens': 1092}\n",
            "User: what are black holes\n",
            "Assistant: content='Black holes are regions in space where the gravitational pull is so strong that nothing, including light, can escape. They are formed when a massive star collapses in on itself, creating an intense gravitational field. The boundary of a black hole is called the event horizon, and anything that crosses it is trapped forever. Black holes come in various sizes, ranging from small, stellar-mass black holes formed from star collapse to supermassive black holes found at the centers of galaxies. They continue to be a fascinating subject of study in astrophysics and theoretical physics.' additional_kwargs={} response_metadata={'token_usage': {'completion_tokens': 302, 'prompt_tokens': 252, 'total_tokens': 554, 'completion_time': 1.098181818, 'prompt_time': 0.020624243, 'queue_time': 0.024286543, 'total_time': 1.118806061}, 'model_name': 'deepseek-r1-distill-llama-70b', 'system_fingerprint': 'fp_af2982c95d', 'finish_reason': 'stop', 'logprobs': None} id='run-9b7fa854-5c74-48e3-83fa-f7c3a3570b16-0' usage_metadata={'input_tokens': 252, 'output_tokens': 302, 'total_tokens': 554}\n",
            "User: q\n",
            "Goodbye!\n"
          ]
        }
      ]
    },
    {
      "cell_type": "code",
      "source": [],
      "metadata": {
        "id": "ZDoV8hVj7abM"
      },
      "execution_count": null,
      "outputs": []
    }
  ]
}